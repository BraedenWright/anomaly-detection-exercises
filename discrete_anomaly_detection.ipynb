{
 "cells": [
  {
   "cell_type": "markdown",
   "id": "8ba0a9bc",
   "metadata": {},
   "source": [
    "# Imports"
   ]
  },
  {
   "cell_type": "code",
   "execution_count": 1,
   "id": "02445bc1",
   "metadata": {},
   "outputs": [],
   "source": [
    "import numpy as np\n",
    "import pandas as pd\n",
    "\n",
    "import datetime\n",
    "from datetime import datetime"
   ]
  },
  {
   "cell_type": "code",
   "execution_count": 2,
   "id": "1f387772",
   "metadata": {},
   "outputs": [
    {
     "data": {
      "text/html": [
       "<div>\n",
       "<style scoped>\n",
       "    .dataframe tbody tr th:only-of-type {\n",
       "        vertical-align: middle;\n",
       "    }\n",
       "\n",
       "    .dataframe tbody tr th {\n",
       "        vertical-align: top;\n",
       "    }\n",
       "\n",
       "    .dataframe thead th {\n",
       "        text-align: right;\n",
       "    }\n",
       "</style>\n",
       "<table border=\"1\" class=\"dataframe\">\n",
       "  <thead>\n",
       "    <tr style=\"text-align: right;\">\n",
       "      <th></th>\n",
       "      <th>Access Logs</th>\n",
       "    </tr>\n",
       "  </thead>\n",
       "  <tbody>\n",
       "    <tr>\n",
       "      <th>0</th>\n",
       "      <td>2018-01-26 09:55:03 / 1 8 97.105.19.61</td>\n",
       "    </tr>\n",
       "    <tr>\n",
       "      <th>1</th>\n",
       "      <td>2018-01-26 09:56:02 java-ii 1 8 97.105.19.61</td>\n",
       "    </tr>\n",
       "    <tr>\n",
       "      <th>2</th>\n",
       "      <td>2018-01-26 09:56:05 java-ii/object-oriented-pr...</td>\n",
       "    </tr>\n",
       "    <tr>\n",
       "      <th>3</th>\n",
       "      <td>2018-01-26 09:56:06 slides/object_oriented_pro...</td>\n",
       "    </tr>\n",
       "    <tr>\n",
       "      <th>4</th>\n",
       "      <td>2018-01-26 09:56:24 javascript-i/conditionals ...</td>\n",
       "    </tr>\n",
       "    <tr>\n",
       "      <th>...</th>\n",
       "      <td>...</td>\n",
       "    </tr>\n",
       "    <tr>\n",
       "      <th>42219</th>\n",
       "      <td>2018-04-11 22:38:56 javascript-ii/modules 36 2...</td>\n",
       "    </tr>\n",
       "    <tr>\n",
       "      <th>42220</th>\n",
       "      <td>2018-04-11 22:47:57 jquery 145 23 76.185.182.91</td>\n",
       "    </tr>\n",
       "    <tr>\n",
       "      <th>42221</th>\n",
       "      <td>2018-04-11 22:48:13 jquery/ajax/weather-map 14...</td>\n",
       "    </tr>\n",
       "    <tr>\n",
       "      <th>42222</th>\n",
       "      <td>2018-04-11 23:02:01 html-css 83 18 45.21.0.138</td>\n",
       "    </tr>\n",
       "    <tr>\n",
       "      <th>42223</th>\n",
       "      <td>2018-04-11 23:02:10 html-css/css-i/introductio...</td>\n",
       "    </tr>\n",
       "  </tbody>\n",
       "</table>\n",
       "<p>42224 rows × 1 columns</p>\n",
       "</div>"
      ],
      "text/plain": [
       "                                             Access Logs\n",
       "0                 2018-01-26 09:55:03 / 1 8 97.105.19.61\n",
       "1           2018-01-26 09:56:02 java-ii 1 8 97.105.19.61\n",
       "2      2018-01-26 09:56:05 java-ii/object-oriented-pr...\n",
       "3      2018-01-26 09:56:06 slides/object_oriented_pro...\n",
       "4      2018-01-26 09:56:24 javascript-i/conditionals ...\n",
       "...                                                  ...\n",
       "42219  2018-04-11 22:38:56 javascript-ii/modules 36 2...\n",
       "42220    2018-04-11 22:47:57 jquery 145 23 76.185.182.91\n",
       "42221  2018-04-11 22:48:13 jquery/ajax/weather-map 14...\n",
       "42222     2018-04-11 23:02:01 html-css 83 18 45.21.0.138\n",
       "42223  2018-04-11 23:02:10 html-css/css-i/introductio...\n",
       "\n",
       "[42224 rows x 1 columns]"
      ]
     },
     "execution_count": 2,
     "metadata": {},
     "output_type": "execute_result"
    }
   ],
   "source": [
    "pd.read_csv('curriculum_access.txt')"
   ]
  },
  {
   "cell_type": "code",
   "execution_count": null,
   "id": "8f8d0123",
   "metadata": {},
   "outputs": [],
   "source": []
  },
  {
   "cell_type": "code",
   "execution_count": null,
   "id": "cf9ab434",
   "metadata": {},
   "outputs": [],
   "source": []
  }
 ],
 "metadata": {
  "kernelspec": {
   "display_name": "Python 3 (ipykernel)",
   "language": "python",
   "name": "python3"
  },
  "language_info": {
   "codemirror_mode": {
    "name": "ipython",
    "version": 3
   },
   "file_extension": ".py",
   "mimetype": "text/x-python",
   "name": "python",
   "nbconvert_exporter": "python",
   "pygments_lexer": "ipython3",
   "version": "3.9.7"
  }
 },
 "nbformat": 4,
 "nbformat_minor": 5
}
